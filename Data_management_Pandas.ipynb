{
 "cells": [
  {
   "cell_type": "code",
   "execution_count": 20,
   "metadata": {},
   "outputs": [],
   "source": [
    "import pandas as pd\n",
    "import numpy as np"
   ]
  },
  {
   "cell_type": "code",
   "execution_count": 3,
   "metadata": {},
   "outputs": [
    {
     "name": "stdout",
     "output_type": "stream",
     "text": [
      "Africa           11506\n",
      "Antarctica        5500\n",
      "Asia             16988\n",
      "Australia         2968\n",
      "Europe            3745\n",
      "North America     9390\n",
      "South America     6795\n",
      "dtype: int64\n"
     ]
    }
   ],
   "source": [
    "#Task 1\n",
    "# Create series\n",
    "lm = pd.Series({\"Africa\": 11506, \"Antarctica\":5500, \"Asia\": 16988, \"Australia\": 2968,\n",
    "\"Europe\": 3745, \"North America\": 9390, \"South America\": 6795})\n",
    "print(lm)"
   ]
  },
  {
   "cell_type": "code",
   "execution_count": 4,
   "metadata": {},
   "outputs": [
    {
     "name": "stdout",
     "output_type": "stream",
     "text": [
      "Africa        11506\n",
      "Antarctica     5500\n",
      "Australia      2968\n",
      "Eurasia       20733\n",
      "Americas      16185\n",
      "dtype: int64\n"
     ]
    }
   ],
   "source": [
    "#Add new values\n",
    "lm = lm.append(pd.Series({\"Eurasia\": lm[\"Asia\"]+lm[\"Europe\"],\n",
    "\"Americas\": lm[\"North America\"]+lm[\"South America\"]}))\n",
    "\n",
    "#Delete values\n",
    "lm = lm.drop([\"Asia\", \"Europe\", \"North America\", \"South America\"])\n",
    "print(lm)"
   ]
  },
  {
   "cell_type": "code",
   "execution_count": 9,
   "metadata": {},
   "outputs": [],
   "source": [
    "#Task 2\n",
    "ws_temp = pd.Series({\"Jan\": 4.0, \"Feb\": 4.7, \"Mar\": 6.1,\n",
    "\"Apr\": 7.3, \"May\": 11.3, \"Jun\": 12.7,\n",
    "\"Jul\": 13.4, \"Aug\": 13.2, \"Sep\": 11.6,\n",
    "\"Oct\": 10.2, \"Nov\": 4.9, \"Dec\": 3.5})"
   ]
  },
  {
   "cell_type": "code",
   "execution_count": 11,
   "metadata": {},
   "outputs": [
    {
     "name": "stdout",
     "output_type": "stream",
     "text": [
      "Jun    12.7\n",
      "Jul    13.4\n",
      "Aug    13.2\n",
      "dtype: float64\n"
     ]
    }
   ],
   "source": [
    "print(ws_temp[\"Jun\":\"Aug\"])"
   ]
  },
  {
   "cell_type": "code",
   "execution_count": 12,
   "metadata": {},
   "outputs": [
    {
     "name": "stdout",
     "output_type": "stream",
     "text": [
      "8.75\n"
     ]
    }
   ],
   "source": [
    "print(ws_temp.median())"
   ]
  },
  {
   "cell_type": "code",
   "execution_count": 13,
   "metadata": {},
   "outputs": [
    {
     "name": "stdout",
     "output_type": "stream",
     "text": [
      "Dec    3.5\n",
      "Jan    4.0\n",
      "Feb    4.7\n",
      "dtype: float64\n",
      "Jul    13.4\n",
      "Aug    13.2\n",
      "Jun    12.7\n",
      "dtype: float64\n"
     ]
    }
   ],
   "source": [
    "print(ws_temp.nsmallest(3))\n",
    "print(ws_temp.nlargest(3))"
   ]
  },
  {
   "cell_type": "code",
   "execution_count": 15,
   "metadata": {},
   "outputs": [
    {
     "name": "stdout",
     "output_type": "stream",
     "text": [
      "Dec\n"
     ]
    }
   ],
   "source": [
    "print(ws_temp.idxmin())"
   ]
  },
  {
   "cell_type": "code",
   "execution_count": 18,
   "metadata": {},
   "outputs": [
    {
     "name": "stdout",
     "output_type": "stream",
     "text": [
      "8.6\n"
     ]
    }
   ],
   "source": [
    "print(ws_temp.sort_values()[2:-2].mean())"
   ]
  },
  {
   "cell_type": "code",
   "execution_count": 10,
   "metadata": {},
   "outputs": [],
   "source": [
    "#Task 3\n",
    "#Create a dataframe\n",
    "\n",
    "cider = pd.DataFrame({\"Supermarket\": [\"Sainsbury's\", \"Tesco\", \"Iceland\"],\n",
    "\"Product\": [\"Bulmers 8x500ml\", \"Scrumpy Jack 4x400ml\", \"Frosty Jack 3L\"],\n",
    "\"Price\": [8, 3.75, 3.69]})"
   ]
  },
  {
   "cell_type": "code",
   "execution_count": 12,
   "metadata": {},
   "outputs": [],
   "source": [
    "# Add new row for Strongbow\n",
    "cider = cider.append(pd.Series({\"Supermarket\": \"Asda\", \"Product\": \"Strongbow 12x440ml\",\"Price\": 9}),ignore_index=True)\n",
    "\n",
    "\n",
    "\n",
    "\n"
   ]
  },
  {
   "cell_type": "code",
   "execution_count": 14,
   "metadata": {},
   "outputs": [],
   "source": [
    "# Add UK units\n",
    "cider[\"Units\"] = [ 18.4, 10.4, 22.5, 26.4 ]\n",
    "# Add minimum price\n",
    "cider[\"MinimumPrice\"] = cider[\"Units\"] * 0.5"
   ]
  },
  {
   "cell_type": "code",
   "execution_count": 16,
   "metadata": {},
   "outputs": [],
   "source": [
    "# Add new price - Answer II\n",
    "cider[\"NewPrice\"] = cider[\"Price\"].where(cider[\"Price\"] > cider[\"MinimumPrice\"],\n",
    "cider[\"MinimumPrice\"])"
   ]
  },
  {
   "cell_type": "code",
   "execution_count": 17,
   "metadata": {},
   "outputs": [
    {
     "name": "stdout",
     "output_type": "stream",
     "text": [
      "   Supermarket               Product  Price  Units  MinimumPrice  NewPrice\n",
      "0  Sainsbury's       Bulmers 8x500ml   8.00   18.4          9.20      9.20\n",
      "1        Tesco  Scrumpy Jack 4x400ml   3.75   10.4          5.20      5.20\n",
      "2      Iceland        Frosty Jack 3L   3.69   22.5         11.25     11.25\n",
      "3         Asda    Strongbow 12x440ml   9.00   26.4         13.20     13.20\n"
     ]
    }
   ],
   "source": [
    "print(cider)"
   ]
  },
  {
   "cell_type": "code",
   "execution_count": 18,
   "metadata": {},
   "outputs": [
    {
     "name": "stdout",
     "output_type": "stream",
     "text": [
      "   Supermarket               Product  Price  Units  MinimumPrice  NewPrice\n",
      "0  Sainsbury's       Bulmers 8x500ml   8.00   18.4           9.2       9.2\n",
      "1        Tesco  Scrumpy Jack 4x400ml   3.75   10.4           5.2       5.2\n",
      "3         Asda    Strongbow 12x440ml   9.00   26.4          13.2      13.2\n"
     ]
    }
   ],
   "source": [
    "# Delete Iceland Frosty Jack\n",
    "cider = cider.drop(2)\n",
    "print(cider)"
   ]
  },
  {
   "cell_type": "code",
   "execution_count": 21,
   "metadata": {},
   "outputs": [],
   "source": [
    "#Task 4 Create a data frame of random numbers\n",
    "x = pd.DataFrame(np.random.choice(range(-5, 6), (4,3), \n",
    "                                  replace=True), index=[\"ra\", \"rb\", \"rc\", \"rd\"], columns=[\"ca\", \"cb\", \"cc\"])"
   ]
  },
  {
   "cell_type": "code",
   "execution_count": 26,
   "metadata": {},
   "outputs": [
    {
     "name": "stdout",
     "output_type": "stream",
     "text": [
      "ca    0.0\n",
      "cb    0.0\n",
      "cc    0.0\n",
      "dtype: float64\n"
     ]
    }
   ],
   "source": [
    "#Substract the mean for each column\n",
    "c_means = x.mean()\n",
    "x1 = x - c_means\n",
    "print(x1.sum())"
   ]
  },
  {
   "cell_type": "code",
   "execution_count": 27,
   "metadata": {},
   "outputs": [
    {
     "name": "stdout",
     "output_type": "stream",
     "text": [
      "ra    0.0\n",
      "rb    0.0\n",
      "rc    0.0\n",
      "rd    0.0\n",
      "dtype: float64\n"
     ]
    }
   ],
   "source": [
    "r_means = x.mean(axis = 1)\n",
    "x2 = x.sub(r_means, axis = 1)\n",
    "print(x2.sum(axis = 1))"
   ]
  },
  {
   "cell_type": "code",
   "execution_count": 28,
   "metadata": {},
   "outputs": [],
   "source": [
    "#Task 5\n",
    "cities = pd.DataFrame({ \"name\": [\"Aberdeen\", \"Dundee\", \"Edinburgh\", \"Glasgow\",\"Inverness\", \"Perth\", \"Stirling\"],\n",
    "                       \"population\": [ 196670, 148270, 464990, 621020,63780, 47180, 94000 ] ,\n",
    "                       \"charter\": [ \"1179\", \"1191\", \"1125\", \"1170s\",\"1200s\", \"1200s\", \"1200s\" ] })"
   ]
  },
  {
   "cell_type": "code",
   "execution_count": 31,
   "metadata": {},
   "outputs": [
    {
     "name": "stdout",
     "output_type": "stream",
     "text": [
      "The population of the city 0 is 196670.\n",
      "The population of the city 1 is 148270.\n",
      "The population of the city 2 is 464990.\n",
      "The population of the city 3 is 621020.\n",
      "The population of the city 4 is 63780.\n",
      "The population of the city 5 is 47180.\n",
      "The population of the city 6 is 94000.\n"
     ]
    }
   ],
   "source": [
    "for rowname, rowdata in cities.iterrows():\n",
    "    population = rowdata[\"population\"]\n",
    "    print(f\"The population of the city {rowname} is {population}.\")"
   ]
  },
  {
   "cell_type": "code",
   "execution_count": 34,
   "metadata": {},
   "outputs": [
    {
     "name": "stdout",
     "output_type": "stream",
     "text": [
      "                 Source  kgCO2  sqmyear  Vegetarian  Vegan\n",
      "0      Beef (beef herd)   50.0    164.0       False  False\n",
      "1         Lamb & Mutton   20.0    185.0       False  False\n",
      "2     Beef (dairy herd)    7.0     22.0       False  False\n",
      "3  Crustaceans (farmed)   18.0      2.0       False  False\n",
      "4                Cheese   11.0     41.0        True  False\n"
     ]
    }
   ],
   "source": [
    "#Task 7\n",
    "footprint = pd.read_csv(\"footprint.csv\")\n",
    "print(footprint.head())"
   ]
  },
  {
   "cell_type": "code",
   "execution_count": 35,
   "metadata": {},
   "outputs": [
    {
     "name": "stdout",
     "output_type": "stream",
     "text": [
      "          Source  kgCO2  sqmyear  Vegetarian  Vegan\n",
      "9           Tofu    2.0      2.2        True   True\n",
      "10    Groundnuts   12.0      3.5        True   True\n",
      "11  Other Pulses    0.8      7.3        True   True\n",
      "12          Peas    0.5      3.4        True   True\n",
      "13          Nuts    0.5      7.9        True   True\n",
      "14        Grains    2.7      4.6        True   True\n"
     ]
    }
   ],
   "source": [
    "print(footprint.query(\"Vegan ==True \"))"
   ]
  },
  {
   "cell_type": "code",
   "execution_count": 36,
   "metadata": {},
   "outputs": [
    {
     "name": "stdout",
     "output_type": "stream",
     "text": [
      "                  Source  kgCO2  sqmyear  Vegetarian  Vegan  Nonvegetarian\n",
      "0       Beef (beef herd)   50.0    164.0       False  False           True\n",
      "1          Lamb & Mutton   20.0    185.0       False  False           True\n",
      "2      Beef (dairy herd)    7.0     22.0       False  False           True\n",
      "3   Crustaceans (farmed)   18.0      2.0       False  False           True\n",
      "4                 Cheese   11.0     41.0        True  False          False\n",
      "5               Pig Meat    7.6     11.0       False  False           True\n",
      "6          Fish (farmed)    6.0      3.7       False  False           True\n",
      "7           Poultry Meat    5.7      7.1       False  False           True\n",
      "8                   Eggs    4.2      2.2        True  False          False\n",
      "9                   Tofu    2.0      2.2        True   True          False\n",
      "10            Groundnuts   12.0      3.5        True   True          False\n",
      "11          Other Pulses    0.8      7.3        True   True          False\n",
      "12                  Peas    0.5      3.4        True   True          False\n",
      "13                  Nuts    0.5      7.9        True   True          False\n",
      "14                Grains    2.7      4.6        True   True          False\n"
     ]
    }
   ],
   "source": [
    "#Task 8\n",
    "footprint = footprint.eval(\"Nonvegetarian = not Vegetarian\")\n",
    "print(footprint)\n"
   ]
  },
  {
   "cell_type": "code",
   "execution_count": null,
   "metadata": {},
   "outputs": [],
   "source": []
  }
 ],
 "metadata": {
  "kernelspec": {
   "display_name": "Python 3",
   "language": "python",
   "name": "python3"
  },
  "language_info": {
   "codemirror_mode": {
    "name": "ipython",
    "version": 3
   },
   "file_extension": ".py",
   "mimetype": "text/x-python",
   "name": "python",
   "nbconvert_exporter": "python",
   "pygments_lexer": "ipython3",
   "version": "3.8.3"
  }
 },
 "nbformat": 4,
 "nbformat_minor": 4
}
